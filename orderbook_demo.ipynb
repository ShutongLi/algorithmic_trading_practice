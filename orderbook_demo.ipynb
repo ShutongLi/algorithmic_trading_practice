{
 "cells": [
  {
   "cell_type": "code",
   "execution_count": 22,
   "id": "a3ab4ad8",
   "metadata": {},
   "outputs": [
    {
     "name": "stdout",
     "output_type": "stream",
     "text": [
      "The autoreload extension is already loaded. To reload it, use:\n",
      "  %reload_ext autoreload\n"
     ]
    }
   ],
   "source": [
    "import heapq\n",
    "import pandas as pd\n",
    "from collections import defaultdict\n",
    "from copy import deepcopy\n",
    "from src.orderbook import OrderBook\n",
    "import json\n",
    "%load_ext autoreload\n",
    "%autoreload 2"
   ]
  },
  {
   "cell_type": "code",
   "execution_count": 23,
   "id": "b7e158c0",
   "metadata": {},
   "outputs": [],
   "source": [
    "def order_generator(Symbol, OrderID, Side, Quantity, Price):\n",
    "    return locals()"
   ]
  },
  {
   "cell_type": "code",
   "execution_count": 24,
   "id": "4a7cfd2f",
   "metadata": {},
   "outputs": [],
   "source": [
    "server_data = pd.read_csv('finance/finance.csv')"
   ]
  },
  {
   "cell_type": "code",
   "execution_count": 25,
   "id": "1f172b87",
   "metadata": {},
   "outputs": [],
   "source": [
    "subset = server_data.iloc[:10,:]"
   ]
  },
  {
   "cell_type": "code",
   "execution_count": 26,
   "id": "30c03690",
   "metadata": {},
   "outputs": [],
   "source": [
    "# one_insertion = subset.loc[0].to_dict()"
   ]
  },
  {
   "cell_type": "code",
   "execution_count": 27,
   "id": "0e8efdb0",
   "metadata": {},
   "outputs": [
    {
     "data": {
      "text/plain": [
       "({'Symbol': 'A', 'OrderID': 0, 'Side': 'B', 'Quantity': 10, 'Price': 10},\n",
       " {'Symbol': 'A', 'OrderID': 1, 'Side': 'S', 'Quantity': 9, 'Price': 10})"
      ]
     },
     "execution_count": 27,
     "metadata": {},
     "output_type": "execute_result"
    }
   ],
   "source": [
    "ob = OrderBook()\n",
    "buy_order = order_generator('A', 0, 'B', 10, 10)\n",
    "sell_order = order_generator('A', 1, 'S', 9, 10)\n",
    "(buy_order, sell_order)"
   ]
  },
  {
   "cell_type": "code",
   "execution_count": 28,
   "id": "6313b002",
   "metadata": {},
   "outputs": [
    {
     "name": "stdout",
     "output_type": "stream",
     "text": [
      "found crossing candidate for our new order {'Symbol': 'A', 'OrderID': 1, 'Price': 10.0, 'Side': 'S', 'Quantity': 9}. Candidate: {'Symbol': 'A', 'OrderID': 0, 'Price': 10.0, 'Quantity': 10} \n",
      "this new order is fulfilled\n",
      "order already filled, no need for adding...\n"
     ]
    }
   ],
   "source": [
    "ob.react_to_market_order(buy_order)\n",
    "ob.react_to_market_order(sell_order)"
   ]
  },
  {
   "cell_type": "code",
   "execution_count": 29,
   "id": "7ace3d2b",
   "metadata": {},
   "outputs": [
    {
     "data": {
      "text/plain": [
       "Ask Book: defaultdict(<function OrderBook.__init__.<locals>.<lambda> at 0x0000022565F3FCA0>, {'A': []})\n",
       "Bid Book: defaultdict(<function OrderBook.__init__.<locals>.<lambda> at 0x0000022565F3FAF0>, {'A': [{'Symbol': 'A', 'OrderID': 0, 'Price': 10.0, 'Quantity': 1}]})"
      ]
     },
     "execution_count": 29,
     "metadata": {},
     "output_type": "execute_result"
    }
   ],
   "source": [
    "ob"
   ]
  },
  {
   "cell_type": "code",
   "execution_count": 30,
   "id": "11d503fc",
   "metadata": {},
   "outputs": [],
   "source": [
    "new_sell_order_cant_fill = order_generator('A', 3, 'S', 11, 10)\n",
    "new_sell_order_can_fill = order_generator('A', 4, 'S', 9, 10)"
   ]
  },
  {
   "cell_type": "code",
   "execution_count": 21,
   "id": "25519f57",
   "metadata": {},
   "outputs": [
    {
     "name": "stdout",
     "output_type": "stream",
     "text": [
      "found crossing candidate for our new order {'Symbol': 'A', 'OrderID': 2, 'Price': 10.0, 'Side': 'S', 'Quantity': 11}. Candidate: {'Symbol': 'A', 'OrderID': 0, 'Price': 10.0, 'Quantity': 1} \n",
      "the order candidate in orderbook is filled\n"
     ]
    }
   ],
   "source": [
    "ob.react_to_market_order(new_sell_order_cant_fill)\n",
    "ob.react_to_market_order(new_sell_order_can_fill)"
   ]
  },
  {
   "cell_type": "code",
   "execution_count": null,
   "id": "0d173377",
   "metadata": {},
   "outputs": [],
   "source": [
    "ob"
   ]
  },
  {
   "cell_type": "code",
   "execution_count": null,
   "id": "dea7ddc5",
   "metadata": {
    "scrolled": true
   },
   "outputs": [],
   "source": [
    "# running it on the entire dataset\n",
    "# uncomment and run\n",
    "# ob = OrderBook()\n",
    "# for i in range(len(server_data)):\n",
    "#     ob.react_to_market_order(server_data.iloc[i].to_dict())"
   ]
  },
  {
   "cell_type": "code",
   "execution_count": null,
   "id": "adf2e2ac",
   "metadata": {},
   "outputs": [],
   "source": [
    "ob.dc.historical_data.head()"
   ]
  },
  {
   "cell_type": "code",
   "execution_count": null,
   "id": "ed14bc8c",
   "metadata": {},
   "outputs": [],
   "source": []
  }
 ],
 "metadata": {
  "kernelspec": {
   "display_name": "Python 3",
   "language": "python",
   "name": "python3"
  },
  "language_info": {
   "codemirror_mode": {
    "name": "ipython",
    "version": 3
   },
   "file_extension": ".py",
   "mimetype": "text/x-python",
   "name": "python",
   "nbconvert_exporter": "python",
   "pygments_lexer": "ipython3",
   "version": "3.8.8"
  }
 },
 "nbformat": 4,
 "nbformat_minor": 5
}
