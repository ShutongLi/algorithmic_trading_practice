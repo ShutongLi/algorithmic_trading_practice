{
 "cells": [
  {
   "cell_type": "code",
   "execution_count": 1,
   "id": "a3ab4ad8",
   "metadata": {},
   "outputs": [],
   "source": [
    "import heapq\n",
    "import pandas as pd\n",
    "from collections import defaultdict\n",
    "from copy import deepcopy\n",
    "from src.orderbook import OrderBook\n",
    "import json\n",
    "%load_ext autoreload\n",
    "%autoreload 2"
   ]
  },
  {
   "cell_type": "code",
   "execution_count": 50,
   "id": "3e99afa1",
   "metadata": {},
   "outputs": [
    {
     "data": {
      "text/plain": [
       "'null'"
      ]
     },
     "execution_count": 50,
     "metadata": {},
     "output_type": "execute_result"
    }
   ],
   "source": [
    "json.dumps(None)"
   ]
  },
  {
   "cell_type": "code",
   "execution_count": 2,
   "id": "6a15fdf3",
   "metadata": {},
   "outputs": [],
   "source": [
    "def order_generator(Symbol, OrderID, Side, Quantity, Price):\n",
    "    return locals()"
   ]
  },
  {
   "cell_type": "code",
   "execution_count": 49,
   "id": "43703eab",
   "metadata": {},
   "outputs": [],
   "source": [
    "server_data = pd.read_csv('finance/finance.csv')"
   ]
  },
  {
   "cell_type": "code",
   "execution_count": 4,
   "id": "e98101df",
   "metadata": {},
   "outputs": [],
   "source": [
    "subset = server_data.iloc[:10,:]"
   ]
  },
  {
   "cell_type": "code",
   "execution_count": 36,
   "id": "6bdd1345",
   "metadata": {},
   "outputs": [],
   "source": [
    "# one_insertion = subset.loc[0].to_dict()"
   ]
  },
  {
   "cell_type": "code",
   "execution_count": 37,
   "id": "0e32e3ce",
   "metadata": {},
   "outputs": [
    {
     "data": {
      "text/plain": [
       "({'Symbol': 'A', 'OrderID': 0, 'Side': 'B', 'Quantity': 10, 'Price': 10},\n",
       " {'Symbol': 'A', 'OrderID': 1, 'Side': 'S', 'Quantity': 9, 'Price': 10})"
      ]
     },
     "execution_count": 37,
     "metadata": {},
     "output_type": "execute_result"
    }
   ],
   "source": [
    "ob = OrderBook()\n",
    "buy_order = order_generator('A', 0, 'B', 10, 10)\n",
    "sell_order = order_generator('A', 1, 'S', 9, 10)\n",
    "(buy_order, sell_order)"
   ]
  },
  {
   "cell_type": "code",
   "execution_count": 38,
   "id": "bc8b0be8",
   "metadata": {},
   "outputs": [
    {
     "name": "stdout",
     "output_type": "stream",
     "text": [
      "found crossing candidate for our new order {'Symbol': 'A', 'OrderID': 1, 'Price': 10.0, 'Side': 'S', 'Quantity': 9}. Candidate: {'Symbol': 'A', 'OrderID': 0, 'Price': 10.0, 'Quantity': 10} \n",
      "this new order is fulfilled\n",
      "order already filled, no need for adding...\n"
     ]
    }
   ],
   "source": [
    "ob.react_to_market_order(buy_order)\n",
    "ob.react_to_market_order(sell_order)"
   ]
  },
  {
   "cell_type": "code",
   "execution_count": 39,
   "id": "c0dac5a9",
   "metadata": {},
   "outputs": [
    {
     "data": {
      "text/plain": [
       "Ask Book: defaultdict(<function OrderBook.__init__.<locals>.<lambda> at 0x0000022560893AF0>, {'A': []})\n",
       "Bid Book: defaultdict(<function OrderBook.__init__.<locals>.<lambda> at 0x0000022560893B80>, {'A': [{'Symbol': 'A', 'OrderID': 0, 'Price': 10.0, 'Quantity': 1}]})"
      ]
     },
     "execution_count": 39,
     "metadata": {},
     "output_type": "execute_result"
    }
   ],
   "source": [
    "ob"
   ]
  },
  {
   "cell_type": "code",
   "execution_count": 40,
   "id": "22636218",
   "metadata": {},
   "outputs": [],
   "source": [
    "new_sell_order_cant_fill = order_generator('A', 3, 'S', 10, 11)\n",
    "new_sell_order_can_fill = order_generator('A', 4, 'S', 10, 10)"
   ]
  },
  {
   "cell_type": "code",
   "execution_count": 41,
   "id": "8f13da4c",
   "metadata": {},
   "outputs": [
    {
     "name": "stdout",
     "output_type": "stream",
     "text": [
      "found crossing candidate for our new order {'Symbol': 'A', 'OrderID': 4, 'Price': 10.0, 'Side': 'S', 'Quantity': 10}. Candidate: {'Symbol': 'A', 'OrderID': 0, 'Price': 10.0, 'Quantity': 1} \n",
      "the order candidate in orderbook is filled\n"
     ]
    }
   ],
   "source": [
    "ob.react_to_market_order(new_sell_order_cant_fill)\n",
    "ob.react_to_market_order(new_sell_order_can_fill)"
   ]
  },
  {
   "cell_type": "code",
   "execution_count": 42,
   "id": "d366dbc4",
   "metadata": {},
   "outputs": [
    {
     "data": {
      "text/plain": [
       "Ask Book: defaultdict(<function OrderBook.__init__.<locals>.<lambda> at 0x0000022560893AF0>, {'A': [{'Symbol': 'A', 'OrderID': 4, 'Price': 10.0, 'Quantity': 9}, {'Symbol': 'A', 'OrderID': 3, 'Price': 11.0, 'Quantity': 10}]})\n",
       "Bid Book: defaultdict(<function OrderBook.__init__.<locals>.<lambda> at 0x0000022560893B80>, {'A': ['<removed-order>']})"
      ]
     },
     "execution_count": 42,
     "metadata": {},
     "output_type": "execute_result"
    }
   ],
   "source": [
    "ob"
   ]
  },
  {
   "cell_type": "code",
   "execution_count": 8,
   "id": "e4872042",
   "metadata": {},
   "outputs": [],
   "source": [
    "one_company = server_data.loc[server_data['Symbol']=='AAPL']"
   ]
  },
  {
   "cell_type": "code",
   "execution_count": 14,
   "id": "273231c7",
   "metadata": {},
   "outputs": [],
   "source": [
    "import numpy as np"
   ]
  },
  {
   "cell_type": "code",
   "execution_count": 46,
   "id": "dea7ddc5",
   "metadata": {
    "scrolled": false
   },
   "outputs": [
    {
     "name": "stderr",
     "output_type": "stream",
     "text": [
      "C:\\Users\\lishu\\Documents\\Github\\MSCA-32019 Real-time\\project_server\\src\\custom_priority_queue.py:109: UserWarning: peeking an empty queue btw, you know what you're doing?\n",
      "  warnings.warn(\"peeking an empty queue btw, you know what you're doing?\", UserWarning)\n"
     ]
    }
   ],
   "source": [
    "# running it on the entire dataset\n",
    "# uncomment and run\n",
    "ob = OrderBook()\n",
    "for i in range(len(server_data)):\n",
    "    ob.react_to_market_order(server_data.iloc[i].to_dict())"
   ]
  },
  {
   "cell_type": "code",
   "execution_count": 48,
   "id": "7cc46f37",
   "metadata": {},
   "outputs": [
    {
     "name": "stdout",
     "output_type": "stream",
     "text": [
      "position: defaultdict(<class 'int'>, {'ALXN': 1000, 'AMGN': 0, 'CERN': 0, 'CHKP': 1000, 'CHTR': 1000, 'CMCSA': 3000, 'CSCO': 0, 'CTRP': 2000, 'CTXS': 2000, 'DISCA': 1000, 'DLTR': 1000, 'EA': 0, 'EBAY': 1000, 'ILMN': 1000, 'INTC': 1000, 'AVGO': 2000, 'CA': 2000, 'COST': 0, 'CSX': 1000, 'CTSH': 2000, 'ESRX': 0, 'FISV': 1000, 'GILD': 1000, 'HSIC': 0, 'ADI': 0, 'BBBY': 0, 'BIIB': 0, 'GOOG': 1000, 'AAPL': 1000, 'FAST': 0, 'FOX': 0, 'ATVI': 1000, 'INCY': 0, 'AAL': 2000, 'ADBE': 2000, 'CELG': 0, 'AMZN': 1000, 'EXPE': 1000, 'ADP': 2000})\n",
      "balance: 489680.0\n",
      "holding: 4586020.0\n",
      "pnl: 5075700.0\n"
     ]
    }
   ],
   "source": [
    "print(ob.tm)"
   ]
  },
  {
   "cell_type": "code",
   "execution_count": 44,
   "id": "4abbf617",
   "metadata": {},
   "outputs": [],
   "source": [
    "# ob.dc.historical_data.head()"
   ]
  },
  {
   "cell_type": "code",
   "execution_count": 7,
   "id": "96f07e9c",
   "metadata": {},
   "outputs": [
    {
     "name": "stdout",
     "output_type": "stream",
     "text": [
      "{'Symbol': None, 'Price': None, 'Side': None, 'Quantity': None}\n",
      "{'Symbol': None, 'Price': None, 'Side': None, 'Quantity': None}\n",
      "{'Symbol': None, 'Price': None, 'Side': None, 'Quantity': None}\n",
      "{'Symbol': None, 'Price': None, 'Side': None, 'Quantity': None}\n",
      "{'Symbol': None, 'Price': None, 'Side': None, 'Quantity': None}\n",
      "{'Symbol': None, 'Price': None, 'Side': None, 'Quantity': None}\n",
      "{'Symbol': None, 'Price': None, 'Side': None, 'Quantity': None}\n",
      "{'Symbol': None, 'Price': None, 'Side': None, 'Quantity': None}\n",
      "{'Symbol': None, 'Price': None, 'Side': None, 'Quantity': None}\n",
      "{'Symbol': None, 'Price': None, 'Side': None, 'Quantity': None}\n"
     ]
    }
   ],
   "source": [
    "# ob = OrderBook()\n",
    "# for i in range(len(subset)):\n",
    "#     ob.react_to_market_order(server_data.iloc[i].to_dict())"
   ]
  },
  {
   "cell_type": "code",
   "execution_count": null,
   "id": "a8c94c4c",
   "metadata": {},
   "outputs": [],
   "source": []
  }
 ],
 "metadata": {
  "kernelspec": {
   "display_name": "Python 3",
   "language": "python",
   "name": "python3"
  },
  "language_info": {
   "codemirror_mode": {
    "name": "ipython",
    "version": 3
   },
   "file_extension": ".py",
   "mimetype": "text/x-python",
   "name": "python",
   "nbconvert_exporter": "python",
   "pygments_lexer": "ipython3",
   "version": "3.8.8"
  }
 },
 "nbformat": 4,
 "nbformat_minor": 5
}
