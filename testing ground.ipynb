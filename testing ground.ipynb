{
 "cells": [
  {
   "cell_type": "code",
   "execution_count": 4,
   "id": "a3ab4ad8",
   "metadata": {},
   "outputs": [
    {
     "name": "stdout",
     "output_type": "stream",
     "text": [
      "The autoreload extension is already loaded. To reload it, use:\n",
      "  %reload_ext autoreload\n"
     ]
    }
   ],
   "source": [
    "import heapq\n",
    "import pandas as pd\n",
    "from collections import defaultdict\n",
    "from copy import deepcopy\n",
    "from src.orderbook import OrderBook\n",
    "%load_ext autoreload\n",
    "%autoreload 2"
   ]
  },
  {
   "cell_type": "code",
   "execution_count": 57,
   "id": "f85a3ba0",
   "metadata": {},
   "outputs": [
    {
     "name": "stderr",
     "output_type": "stream",
     "text": [
      "[autoreload of src.orderbook failed: Traceback (most recent call last):\n",
      "  File \"C:\\Users\\lishu\\Anaconda3\\lib\\site-packages\\IPython\\extensions\\autoreload.py\", line 245, in check\n",
      "    superreload(m, reload, self.old_objects)\n",
      "  File \"C:\\Users\\lishu\\Anaconda3\\lib\\site-packages\\IPython\\extensions\\autoreload.py\", line 394, in superreload\n",
      "    module = reload(module)\n",
      "  File \"C:\\Users\\lishu\\Anaconda3\\lib\\imp.py\", line 314, in reload\n",
      "    return importlib.reload(module)\n",
      "  File \"C:\\Users\\lishu\\Anaconda3\\lib\\importlib\\__init__.py\", line 169, in reload\n",
      "    _bootstrap._exec(spec, module)\n",
      "  File \"<frozen importlib._bootstrap>\", line 604, in _exec\n",
      "  File \"<frozen importlib._bootstrap_external>\", line 779, in exec_module\n",
      "  File \"<frozen importlib._bootstrap_external>\", line 916, in get_code\n",
      "  File \"<frozen importlib._bootstrap_external>\", line 846, in source_to_code\n",
      "  File \"<frozen importlib._bootstrap>\", line 219, in _call_with_frames_removed\n",
      "  File \"C:\\Users\\lishu\\Documents\\Github\\MSCA-32019 Real-time\\project_server\\src\\orderbook.py\", line 90\n",
      "    def return_best_order(self, side, symbol):\n",
      "    ^\n",
      "IndentationError: expected an indented block\n",
      "]\n"
     ]
    }
   ],
   "source": [
    "def order_generator(symbol, side, quantity, price):\n",
    "    return locals()"
   ]
  },
  {
   "cell_type": "code",
   "execution_count": null,
   "id": "cede1563",
   "metadata": {},
   "outputs": [],
   "source": [
    "order_generator('A', 'B', 1230, )"
   ]
  },
  {
   "cell_type": "code",
   "execution_count": 8,
   "id": "70f45fd9",
   "metadata": {},
   "outputs": [],
   "source": [
    "server_data = pd.read_csv('finance/finance.csv')"
   ]
  },
  {
   "cell_type": "code",
   "execution_count": 55,
   "id": "5241a250",
   "metadata": {},
   "outputs": [
    {
     "name": "stderr",
     "output_type": "stream",
     "text": [
      "[autoreload of src.orderbook failed: Traceback (most recent call last):\n",
      "  File \"C:\\Users\\lishu\\Anaconda3\\lib\\site-packages\\IPython\\extensions\\autoreload.py\", line 245, in check\n",
      "    superreload(m, reload, self.old_objects)\n",
      "  File \"C:\\Users\\lishu\\Anaconda3\\lib\\site-packages\\IPython\\extensions\\autoreload.py\", line 394, in superreload\n",
      "    module = reload(module)\n",
      "  File \"C:\\Users\\lishu\\Anaconda3\\lib\\imp.py\", line 314, in reload\n",
      "    return importlib.reload(module)\n",
      "  File \"C:\\Users\\lishu\\Anaconda3\\lib\\importlib\\__init__.py\", line 169, in reload\n",
      "    _bootstrap._exec(spec, module)\n",
      "  File \"<frozen importlib._bootstrap>\", line 604, in _exec\n",
      "  File \"<frozen importlib._bootstrap_external>\", line 779, in exec_module\n",
      "  File \"<frozen importlib._bootstrap_external>\", line 916, in get_code\n",
      "  File \"<frozen importlib._bootstrap_external>\", line 846, in source_to_code\n",
      "  File \"<frozen importlib._bootstrap>\", line 219, in _call_with_frames_removed\n",
      "  File \"C:\\Users\\lishu\\Documents\\Github\\MSCA-32019 Real-time\\project_server\\src\\orderbook.py\", line 86\n",
      "    def return_best_order(self, side, symbol):\n",
      "    ^\n",
      "IndentationError: expected an indented block\n",
      "]\n"
     ]
    }
   ],
   "source": [
    "subset = server_data.iloc[:10,:]"
   ]
  },
  {
   "cell_type": "code",
   "execution_count": 56,
   "id": "d3d4eebe",
   "metadata": {},
   "outputs": [],
   "source": [
    "one_insertion = subset.loc[0].to_dict()"
   ]
  },
  {
   "cell_type": "code",
   "execution_count": null,
   "id": "be047cf2",
   "metadata": {},
   "outputs": [],
   "source": []
  },
  {
   "cell_type": "code",
   "execution_count": 38,
   "id": "dea7ddc5",
   "metadata": {},
   "outputs": [],
   "source": [
    "ob = OrderBook()"
   ]
  },
  {
   "cell_type": "code",
   "execution_count": 51,
   "id": "e3bd0df6",
   "metadata": {},
   "outputs": [
    {
     "name": "stdout",
     "output_type": "stream",
     "text": [
      "receiving order {'Symbol': 'AAL', 'Description': 'American Airlines Group Inc', 'OrderID': 1101, 'Quantity': 455000, 'Action': 'A', 'Exchange': 1, 'Side': 'B', 'Price': 44.05, 'News': 0}\n",
      "it is a buy, opening bid book\n",
      "attempt crossing the order...\n",
      "attempt adding order...\n",
      "attempt storing data in\n"
     ]
    }
   ],
   "source": [
    "ob.react_to_market_order(one_insertion)"
   ]
  },
  {
   "cell_type": "code",
   "execution_count": 53,
   "id": "fa8822fd",
   "metadata": {},
   "outputs": [
    {
     "name": "stdout",
     "output_type": "stream",
     "text": [
      "receiving order {'Symbol': 'AAL', 'Description': 'American Airlines Group Inc', 'OrderID': 1101, 'Quantity': 455000, 'Action': 'A', 'Exchange': 1, 'Side': 'B', 'Price': 44.05, 'News': 0}\n",
      "it is a buy, opening bid book\n",
      "attempt crossing the order...\n",
      "attempt adding order...\n",
      "attempt storing data in\n"
     ]
    }
   ],
   "source": [
    "ob.react_to_market_order(one_insertion)"
   ]
  },
  {
   "cell_type": "code",
   "execution_count": 54,
   "id": "748a348e",
   "metadata": {},
   "outputs": [
    {
     "data": {
      "text/plain": [
       "Ask Book: defaultdict(<function OrderBook.__init__.<locals>.<lambda> at 0x000002B3A0001F70>, {'AAL': []})\n",
       "Bid Book: defaultdict(<function OrderBook.__init__.<locals>.<lambda> at 0x000002B3A0001790>, {'AAL': ['<removed-order>', {'Symbol': 'AAL', 'OrderID': 1101, 'Price': 44.05, 'Quantity': 455000}]})"
      ]
     },
     "execution_count": 54,
     "metadata": {},
     "output_type": "execute_result"
    }
   ],
   "source": [
    "ob"
   ]
  },
  {
   "cell_type": "code",
   "execution_count": null,
   "id": "e9c0974d",
   "metadata": {},
   "outputs": [],
   "source": []
  }
 ],
 "metadata": {
  "kernelspec": {
   "display_name": "Python 3",
   "language": "python",
   "name": "python3"
  },
  "language_info": {
   "codemirror_mode": {
    "name": "ipython",
    "version": 3
   },
   "file_extension": ".py",
   "mimetype": "text/x-python",
   "name": "python",
   "nbconvert_exporter": "python",
   "pygments_lexer": "ipython3",
   "version": "3.8.8"
  }
 },
 "nbformat": 4,
 "nbformat_minor": 5
}
