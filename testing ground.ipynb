{
 "cells": [
  {
   "cell_type": "code",
   "execution_count": 1,
   "id": "a3ab4ad8",
   "metadata": {},
   "outputs": [],
   "source": [
    "import heapq\n",
    "from collections import defaultdict\n",
    "from copy import deepcopy\n",
    "from src.custom_priority_queue import OrderQueue\n",
    "%load_ext autoreload\n",
    "%autoreload 2"
   ]
  },
  {
   "cell_type": "code",
   "execution_count": 6,
   "id": "aae23b59",
   "metadata": {},
   "outputs": [],
   "source": [
    "new_bid = {'Symbol': 'AAL', 'Description': 'American Airlines Group Inc', \n",
    "             'OrderID': '1101', 'Quantity': '455000', 'Action': 'A', 'Exchange': '1', \n",
    "             'Side': 'B', 'Price': '430.05', 'News': '0'}"
   ]
  },
  {
   "cell_type": "code",
   "execution_count": 7,
   "id": "89d6052a",
   "metadata": {},
   "outputs": [],
   "source": [
    "bid_list = OrderQueue('B')"
   ]
  },
  {
   "cell_type": "code",
   "execution_count": 8,
   "id": "cc960c02",
   "metadata": {},
   "outputs": [],
   "source": [
    "bid_list.add_task(new_bid)"
   ]
  },
  {
   "cell_type": "code",
   "execution_count": 9,
   "id": "22d2779a",
   "metadata": {},
   "outputs": [
    {
     "data": {
      "text/plain": [
       "[{'Symbol': 'AAL', 'OrderID': 1101, 'Price': 430.05, 'Quantity': 455000}]"
      ]
     },
     "execution_count": 9,
     "metadata": {},
     "output_type": "execute_result"
    }
   ],
   "source": [
    "bid_list"
   ]
  },
  {
   "cell_type": "code",
   "execution_count": 10,
   "id": "847f1cc1",
   "metadata": {},
   "outputs": [],
   "source": [
    "new_bid_with_higher_price = {'Symbol': 'AAL', 'Description': 'American Airlines Group Inc',\\\n",
    "             'OrderID': '1102', 'Quantity': '455000', 'Action': 'A', 'Exchange': '1',\\\n",
    "             'Side': 'B', 'Price': '440.05', 'News': '0'}"
   ]
  },
  {
   "cell_type": "code",
   "execution_count": 11,
   "id": "06a0787e",
   "metadata": {},
   "outputs": [],
   "source": [
    "bid_list.add_task(new_bid_with_higher_price)"
   ]
  },
  {
   "cell_type": "code",
   "execution_count": 12,
   "id": "ea49cfe9",
   "metadata": {},
   "outputs": [
    {
     "data": {
      "text/plain": [
       "[{'Symbol': 'AAL', 'OrderID': 1102, 'Price': 440.05, 'Quantity': 455000}, {'Symbol': 'AAL', 'OrderID': 1101, 'Price': 430.05, 'Quantity': 455000}]"
      ]
     },
     "execution_count": 12,
     "metadata": {},
     "output_type": "execute_result"
    }
   ],
   "source": [
    "bid_list"
   ]
  },
  {
   "cell_type": "code",
   "execution_count": 13,
   "id": "68ab3b68",
   "metadata": {},
   "outputs": [],
   "source": [
    "first_bid_updated_with_higher_price = {'Symbol': 'AAL', 'Description': 'American Airlines Group Inc',\\\n",
    "             'OrderID': '1101', 'Quantity': '455000', 'Action': 'A', 'Exchange': '1',\\\n",
    "             'Side': 'B', 'Price': '1000.0', 'News': '0'}"
   ]
  },
  {
   "cell_type": "code",
   "execution_count": 14,
   "id": "b504bb71",
   "metadata": {},
   "outputs": [],
   "source": [
    "bid_list.add_task(first_bid_updated_with_higher_price)"
   ]
  },
  {
   "cell_type": "code",
   "execution_count": 15,
   "id": "2f2df2a8",
   "metadata": {},
   "outputs": [
    {
     "data": {
      "text/plain": [
       "[{'Symbol': 'AAL', 'OrderID': 1101, 'Price': 1000.0, 'Quantity': 455000}, '<removed-order>', {'Symbol': 'AAL', 'OrderID': 1102, 'Price': 440.05, 'Quantity': 455000}]"
      ]
     },
     "execution_count": 15,
     "metadata": {},
     "output_type": "execute_result"
    }
   ],
   "source": [
    "bid_list"
   ]
  },
  {
   "cell_type": "code",
   "execution_count": 16,
   "id": "b4d75942",
   "metadata": {},
   "outputs": [
    {
     "data": {
      "text/plain": [
       "{'Symbol': 'AAL', 'OrderID': 1101, 'Price': 1000.0, 'Quantity': 455000}"
      ]
     },
     "execution_count": 16,
     "metadata": {},
     "output_type": "execute_result"
    }
   ],
   "source": [
    "bid_list.peek_order()"
   ]
  },
  {
   "cell_type": "code",
   "execution_count": 17,
   "id": "2ec9ecf0",
   "metadata": {},
   "outputs": [
    {
     "data": {
      "text/plain": [
       "[{'Symbol': 'AAL', 'OrderID': 1101, 'Price': 1000.0, 'Quantity': 455000}, '<removed-order>', {'Symbol': 'AAL', 'OrderID': 1102, 'Price': 440.05, 'Quantity': 455000}]"
      ]
     },
     "execution_count": 17,
     "metadata": {},
     "output_type": "execute_result"
    }
   ],
   "source": [
    "bid_list"
   ]
  },
  {
   "cell_type": "code",
   "execution_count": 31,
   "id": "8d6bc932",
   "metadata": {},
   "outputs": [],
   "source": [
    "test_d = defaultdict(lambda: OrderQueue('S'))"
   ]
  },
  {
   "cell_type": "code",
   "execution_count": 32,
   "id": "3aa8dbe2",
   "metadata": {},
   "outputs": [],
   "source": [
    "test_d['appl'].add_task(new_bid)"
   ]
  },
  {
   "cell_type": "code",
   "execution_count": 33,
   "id": "b46b065b",
   "metadata": {},
   "outputs": [],
   "source": [
    "test_d['appl'].add_task(new_bid_with_higher_price)"
   ]
  },
  {
   "cell_type": "code",
   "execution_count": null,
   "id": "fad61ef4",
   "metadata": {},
   "outputs": [],
   "source": []
  },
  {
   "cell_type": "code",
   "execution_count": 34,
   "id": "679e2a91",
   "metadata": {},
   "outputs": [
    {
     "data": {
      "text/plain": [
       "[{'Symbol': 'AAL', 'OrderID': 1101, 'Price': 430.05, 'Quantity': 455000}, {'Symbol': 'AAL', 'OrderID': 1102, 'Price': 440.05, 'Quantity': 455000}]"
      ]
     },
     "execution_count": 34,
     "metadata": {},
     "output_type": "execute_result"
    }
   ],
   "source": [
    "test_d['appl']"
   ]
  },
  {
   "cell_type": "code",
   "execution_count": null,
   "id": "dea7ddc5",
   "metadata": {},
   "outputs": [],
   "source": []
  }
 ],
 "metadata": {
  "kernelspec": {
   "display_name": "Python 3",
   "language": "python",
   "name": "python3"
  },
  "language_info": {
   "codemirror_mode": {
    "name": "ipython",
    "version": 3
   },
   "file_extension": ".py",
   "mimetype": "text/x-python",
   "name": "python",
   "nbconvert_exporter": "python",
   "pygments_lexer": "ipython3",
   "version": "3.8.8"
  }
 },
 "nbformat": 4,
 "nbformat_minor": 5
}
