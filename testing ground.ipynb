{
 "cells": [
  {
   "cell_type": "code",
   "execution_count": 1,
   "id": "072c4780",
   "metadata": {},
   "outputs": [],
   "source": [
    "import heapq\n",
    "from collections import defaultdict\n",
    "from copy import deepcopy\n",
    "from src.custom_priority_queue import OrderQueue\n",
    "%load_ext autoreload\n",
    "%autoreload 2"
   ]
  },
  {
   "cell_type": "code",
   "execution_count": 19,
   "id": "36b037ef",
   "metadata": {},
   "outputs": [],
   "source": [
    "new_bid = {'Symbol': 'AAL', 'Description': 'American Airlines Group Inc', \n",
    "             'OrderID': '1101', 'Quantity': '455000', 'Action': 'A', 'Exchange': '1', \n",
    "             'Side': 'B', 'Price': '440.05', 'News': '0'}"
   ]
  },
  {
   "cell_type": "code",
   "execution_count": 20,
   "id": "67017f43",
   "metadata": {},
   "outputs": [],
   "source": [
    "bid_list = OrderQueue('B')"
   ]
  },
  {
   "cell_type": "code",
   "execution_count": 21,
   "id": "e3d2931e",
   "metadata": {},
   "outputs": [],
   "source": [
    "bid_list.add_task(new_bid)"
   ]
  },
  {
   "cell_type": "code",
   "execution_count": 22,
   "id": "57552061",
   "metadata": {},
   "outputs": [
    {
     "data": {
      "text/plain": [
       "[{'Symbol': 'AAL', 'OrderID': 1101, 'Price': 440.05, 'Quantity': 455000}]"
      ]
     },
     "execution_count": 22,
     "metadata": {},
     "output_type": "execute_result"
    }
   ],
   "source": [
    "bid_list"
   ]
  },
  {
   "cell_type": "code",
   "execution_count": 23,
   "id": "fa435afe",
   "metadata": {},
   "outputs": [],
   "source": [
    "new_bid_with_higher_price = {'Symbol': 'AAL', 'Description': 'American Airlines Group Inc',\\\n",
    "             'OrderID': '1102', 'Quantity': '455000', 'Action': 'A', 'Exchange': '1',\\\n",
    "             'Side': 'B', 'Price': '440.05', 'News': '0'}"
   ]
  },
  {
   "cell_type": "code",
   "execution_count": 24,
   "id": "fcbcf854",
   "metadata": {},
   "outputs": [],
   "source": [
    "bid_list.add_task(new_bid_with_higher_price)"
   ]
  },
  {
   "cell_type": "code",
   "execution_count": 25,
   "id": "a9815cbd",
   "metadata": {},
   "outputs": [
    {
     "data": {
      "text/plain": [
       "[{'Symbol': 'AAL', 'OrderID': 1101, 'Price': 440.05, 'Quantity': 455000}, {'Symbol': 'AAL', 'OrderID': 1102, 'Price': 440.05, 'Quantity': 455000}]"
      ]
     },
     "execution_count": 25,
     "metadata": {},
     "output_type": "execute_result"
    }
   ],
   "source": [
    "bid_list"
   ]
  },
  {
   "cell_type": "code",
   "execution_count": 26,
   "id": "41286d7d",
   "metadata": {},
   "outputs": [],
   "source": [
    "first_bid_updated_with_higher_price = {'Symbol': 'AAL', 'Description': 'American Airlines Group Inc',\\\n",
    "             'OrderID': '1101', 'Quantity': '455000', 'Action': 'A', 'Exchange': '1',\\\n",
    "             'Side': 'B', 'Price': '1000.0', 'News': '0'}"
   ]
  },
  {
   "cell_type": "code",
   "execution_count": 27,
   "id": "28355efd",
   "metadata": {},
   "outputs": [],
   "source": [
    "bid_list.add_task(first_bid_updated_with_higher_price)"
   ]
  },
  {
   "cell_type": "code",
   "execution_count": 28,
   "id": "1bafa6e1",
   "metadata": {},
   "outputs": [
    {
     "data": {
      "text/plain": [
       "['<removed-order>', {'Symbol': 'AAL', 'OrderID': 1102, 'Price': 440.05, 'Quantity': 455000}, {'Symbol': 'AAL', 'OrderID': 1101, 'Price': 1000.0, 'Quantity': 455000}]"
      ]
     },
     "execution_count": 28,
     "metadata": {},
     "output_type": "execute_result"
    }
   ],
   "source": [
    "bid_list"
   ]
  },
  {
   "cell_type": "code",
   "execution_count": null,
   "id": "602e63b6",
   "metadata": {},
   "outputs": [],
   "source": [
    "bid_list.peek_order()"
   ]
  },
  {
   "cell_type": "code",
   "execution_count": null,
   "id": "1adc65eb",
   "metadata": {},
   "outputs": [],
   "source": [
    "bid_list"
   ]
  },
  {
   "cell_type": "code",
   "execution_count": null,
   "id": "463aa6e7",
   "metadata": {},
   "outputs": [],
   "source": [
    "bid_list.pop_order()"
   ]
  },
  {
   "cell_type": "code",
   "execution_count": null,
   "id": "5f517e7e",
   "metadata": {},
   "outputs": [],
   "source": [
    "bid_list.peek_order()"
   ]
  },
  {
   "cell_type": "code",
   "execution_count": null,
   "id": "ef711c07",
   "metadata": {},
   "outputs": [],
   "source": []
  }
 ],
 "metadata": {
  "kernelspec": {
   "display_name": "Python 3",
   "language": "python",
   "name": "python3"
  },
  "language_info": {
   "codemirror_mode": {
    "name": "ipython",
    "version": 3
   },
   "file_extension": ".py",
   "mimetype": "text/x-python",
   "name": "python",
   "nbconvert_exporter": "python",
   "pygments_lexer": "ipython3",
   "version": "3.8.8"
  }
 },
 "nbformat": 4,
 "nbformat_minor": 5
}
