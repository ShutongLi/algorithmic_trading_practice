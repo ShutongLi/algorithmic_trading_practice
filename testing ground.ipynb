{
 "cells": [
  {
   "cell_type": "code",
   "execution_count": 1,
   "id": "28a9b465",
   "metadata": {},
   "outputs": [],
   "source": [
    "import heapq\n",
    "from collections import defaultdict\n",
    "from copy import deepcopy"
   ]
  },
  {
   "cell_type": "code",
   "execution_count": 2,
   "id": "f10b2ca4",
   "metadata": {},
   "outputs": [],
   "source": [
    "ask = defaultdict(list)\n",
    "order_lookup = {}"
   ]
  },
  {
   "cell_type": "code",
   "execution_count": 3,
   "id": "d74f44ca",
   "metadata": {},
   "outputs": [],
   "source": [
    "new_order = {'Symbol': 'AAL', 'Description': 'American Airlines Group Inc', \n",
    "             'OrderID': '1101', 'Quantity': '455000', 'Action': 'A', 'Exchange': '1', \n",
    "             'Side': 'B', 'Price': '44.05', 'News': '0'}"
   ]
  },
  {
   "cell_type": "code",
   "execution_count": 5,
   "id": "4bd0b545",
   "metadata": {},
   "outputs": [],
   "source": [
    "price = float(new_order['Price'])\n",
    "symbol = new_order['Symbol']\n",
    "oid = int(new_order['OrderID'])"
   ]
  },
  {
   "cell_type": "code",
   "execution_count": 6,
   "id": "9f68893d",
   "metadata": {},
   "outputs": [],
   "source": [
    "# descending order\n",
    "priority = -1*price"
   ]
  },
  {
   "cell_type": "code",
   "execution_count": 7,
   "id": "19eb83cb",
   "metadata": {},
   "outputs": [],
   "source": [
    "# the pointer that we want to keep track of \n",
    "pointer_copy = deepcopy(new_order)"
   ]
  },
  {
   "cell_type": "code",
   "execution_count": null,
   "id": "53dcb07f",
   "metadata": {},
   "outputs": [],
   "source": [
    "# add to lookup\n",
    "order_lookup[oid] = pointer_copy\n",
    "# update ask book\n",
    "heapq.heappush(ask[symbol], [priority, pointer_copy])"
   ]
  },
  {
   "cell_type": "code",
   "execution_count": null,
   "id": "69894164",
   "metadata": {},
   "outputs": [],
   "source": [
    "ask"
   ]
  },
  {
   "cell_type": "code",
   "execution_count": null,
   "id": "240805f5",
   "metadata": {},
   "outputs": [],
   "source": [
    "another_order = new_order = {'Symbol': 'AAL', 'Description': 'American Airlines Group Inc', \n",
    "             'OrderID': '1101', 'Quantity': '455000', 'Action': 'A', 'Exchange': '1', \n",
    "             'Side': 'B', 'Price': '440.05', 'News': '0'}"
   ]
  },
  {
   "cell_type": "code",
   "execution_count": null,
   "id": "5480e681",
   "metadata": {},
   "outputs": [],
   "source": [
    "# descending order\n",
    "priority = -1*float(another_order['Price'])"
   ]
  },
  {
   "cell_type": "code",
   "execution_count": null,
   "id": "fb9fad4d",
   "metadata": {},
   "outputs": [],
   "source": [
    "heapq.heappush(ask[symbol], [priority, another_order])"
   ]
  },
  {
   "cell_type": "code",
   "execution_count": null,
   "id": "dccaccb2",
   "metadata": {},
   "outputs": [],
   "source": [
    "ask[symbol]"
   ]
  },
  {
   "cell_type": "code",
   "execution_count": null,
   "id": "4cd3de91",
   "metadata": {},
   "outputs": [],
   "source": []
  }
 ],
 "metadata": {
  "kernelspec": {
   "display_name": "Python 3",
   "language": "python",
   "name": "python3"
  },
  "language_info": {
   "codemirror_mode": {
    "name": "ipython",
    "version": 3
   },
   "file_extension": ".py",
   "mimetype": "text/x-python",
   "name": "python",
   "nbconvert_exporter": "python",
   "pygments_lexer": "ipython3",
   "version": "3.8.8"
  }
 },
 "nbformat": 4,
 "nbformat_minor": 5
}
