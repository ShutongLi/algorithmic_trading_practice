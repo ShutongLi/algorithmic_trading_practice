{
 "cells": [
  {
   "cell_type": "code",
   "execution_count": 17,
   "id": "c5e3131a",
   "metadata": {},
   "outputs": [],
   "source": [
    "import heapq\n",
    "from collections import defaultdict\n",
    "from copy import deepcopy"
   ]
  },
  {
   "cell_type": "code",
   "execution_count": 8,
   "id": "30d312f5",
   "metadata": {},
   "outputs": [],
   "source": [
    "ask = defaultdict(list)\n",
    "order_lookup = {}"
   ]
  },
  {
   "cell_type": "code",
   "execution_count": 9,
   "id": "0189b0fd",
   "metadata": {},
   "outputs": [],
   "source": [
    "new_order = {'Symbol': 'AAL', 'Description': 'American Airlines Group Inc', \n",
    "             'OrderID': '1101', 'Quantity': '455000', 'Action': 'A', 'Exchange': '1', \n",
    "             'Side': 'B', 'Price': '44.05', 'News': '0'}"
   ]
  },
  {
   "cell_type": "code",
   "execution_count": 20,
   "id": "d907dfc8",
   "metadata": {},
   "outputs": [],
   "source": [
    "price = float(new_order['Price'])\n",
    "symbol = new_order['Symbol']\n",
    "oid = int(new_order['OrderID'])"
   ]
  },
  {
   "cell_type": "code",
   "execution_count": 16,
   "id": "3e985667",
   "metadata": {},
   "outputs": [],
   "source": [
    "# descending order\n",
    "priority = -1*price"
   ]
  },
  {
   "cell_type": "code",
   "execution_count": 19,
   "id": "783d42c4",
   "metadata": {},
   "outputs": [],
   "source": [
    "# the pointer that we want to keep track of \n",
    "pointer_copy = deepcopy(new_order)"
   ]
  },
  {
   "cell_type": "code",
   "execution_count": 21,
   "id": "56e31b74",
   "metadata": {},
   "outputs": [],
   "source": [
    "# add to lookup\n",
    "order_lookup[oid] = pointer_copy\n",
    "# update ask book\n",
    "heapq.heappush(ask[symbol], (priority, pointer_copy))"
   ]
  },
  {
   "cell_type": "code",
   "execution_count": 22,
   "id": "ec288c35",
   "metadata": {},
   "outputs": [
    {
     "data": {
      "text/plain": [
       "defaultdict(list,\n",
       "            {'AAL': [(-44.05,\n",
       "               {'Symbol': 'AAL',\n",
       "                'Description': 'American Airlines Group Inc',\n",
       "                'OrderID': '1101',\n",
       "                'Quantity': '455000',\n",
       "                'Action': 'A',\n",
       "                'Exchange': '1',\n",
       "                'Side': 'B',\n",
       "                'Price': '44.05',\n",
       "                'News': '0'})]})"
      ]
     },
     "execution_count": 22,
     "metadata": {},
     "output_type": "execute_result"
    }
   ],
   "source": [
    "ask"
   ]
  },
  {
   "cell_type": "code",
   "execution_count": 23,
   "id": "c6cc3489",
   "metadata": {},
   "outputs": [],
   "source": [
    "pointer_copy['Price'] = 12831920"
   ]
  },
  {
   "cell_type": "code",
   "execution_count": 24,
   "id": "e3d3f9ce",
   "metadata": {},
   "outputs": [
    {
     "data": {
      "text/plain": [
       "defaultdict(list,\n",
       "            {'AAL': [(-44.05,\n",
       "               {'Symbol': 'AAL',\n",
       "                'Description': 'American Airlines Group Inc',\n",
       "                'OrderID': '1101',\n",
       "                'Quantity': '455000',\n",
       "                'Action': 'A',\n",
       "                'Exchange': '1',\n",
       "                'Side': 'B',\n",
       "                'Price': 12831920,\n",
       "                'News': '0'})]})"
      ]
     },
     "execution_count": 24,
     "metadata": {},
     "output_type": "execute_result"
    }
   ],
   "source": [
    "ask"
   ]
  },
  {
   "cell_type": "code",
   "execution_count": null,
   "id": "9af5324d",
   "metadata": {},
   "outputs": [],
   "source": []
  }
 ],
 "metadata": {
  "kernelspec": {
   "display_name": "Python 3",
   "language": "python",
   "name": "python3"
  },
  "language_info": {
   "codemirror_mode": {
    "name": "ipython",
    "version": 3
   },
   "file_extension": ".py",
   "mimetype": "text/x-python",
   "name": "python",
   "nbconvert_exporter": "python",
   "pygments_lexer": "ipython3",
   "version": "3.8.8"
  }
 },
 "nbformat": 4,
 "nbformat_minor": 5
}
