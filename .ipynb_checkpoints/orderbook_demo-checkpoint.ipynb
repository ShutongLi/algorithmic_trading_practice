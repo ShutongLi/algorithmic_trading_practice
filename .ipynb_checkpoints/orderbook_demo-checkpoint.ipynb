{
 "cells": [
  {
   "cell_type": "code",
   "execution_count": 1,
   "id": "a3ab4ad8",
   "metadata": {},
   "outputs": [],
   "source": [
    "import heapq\n",
    "import pandas as pd\n",
    "from collections import defaultdict\n",
    "from copy import deepcopy\n",
    "from src.orderbook import OrderBook\n",
    "import json\n",
    "%load_ext autoreload\n",
    "%autoreload 2"
   ]
  },
  {
   "cell_type": "code",
   "execution_count": 2,
   "id": "6a15fdf3",
   "metadata": {},
   "outputs": [],
   "source": [
    "def order_generator(Symbol, OrderID, Side, Quantity, Price):\n",
    "    return locals()"
   ]
  },
  {
   "cell_type": "code",
   "execution_count": 3,
   "id": "43703eab",
   "metadata": {},
   "outputs": [],
   "source": [
    "server_data = pd.read_csv('finance/finance.csv')"
   ]
  },
  {
   "cell_type": "code",
   "execution_count": 4,
   "id": "e98101df",
   "metadata": {},
   "outputs": [],
   "source": [
    "subset = server_data.iloc[:10,:]"
   ]
  },
  {
   "cell_type": "code",
   "execution_count": 36,
   "id": "6bdd1345",
   "metadata": {},
   "outputs": [],
   "source": [
    "# one_insertion = subset.loc[0].to_dict()"
   ]
  },
  {
   "cell_type": "code",
   "execution_count": 37,
   "id": "0e32e3ce",
   "metadata": {},
   "outputs": [
    {
     "data": {
      "text/plain": [
       "({'Symbol': 'A', 'OrderID': 0, 'Side': 'B', 'Quantity': 10, 'Price': 10},\n",
       " {'Symbol': 'A', 'OrderID': 1, 'Side': 'S', 'Quantity': 9, 'Price': 10})"
      ]
     },
     "execution_count": 37,
     "metadata": {},
     "output_type": "execute_result"
    }
   ],
   "source": [
    "ob = OrderBook()\n",
    "buy_order = order_generator('A', 0, 'B', 10, 10)\n",
    "sell_order = order_generator('A', 1, 'S', 9, 10)\n",
    "(buy_order, sell_order)"
   ]
  },
  {
   "cell_type": "code",
   "execution_count": 38,
   "id": "bc8b0be8",
   "metadata": {},
   "outputs": [
    {
     "name": "stdout",
     "output_type": "stream",
     "text": [
      "found crossing candidate for our new order {'Symbol': 'A', 'OrderID': 1, 'Price': 10.0, 'Side': 'S', 'Quantity': 9}. Candidate: {'Symbol': 'A', 'OrderID': 0, 'Price': 10.0, 'Quantity': 10} \n",
      "this new order is fulfilled\n",
      "order already filled, no need for adding...\n"
     ]
    }
   ],
   "source": [
    "ob.react_to_market_order(buy_order)\n",
    "ob.react_to_market_order(sell_order)"
   ]
  },
  {
   "cell_type": "code",
   "execution_count": 39,
   "id": "c0dac5a9",
   "metadata": {},
   "outputs": [
    {
     "data": {
      "text/plain": [
       "Ask Book: defaultdict(<function OrderBook.__init__.<locals>.<lambda> at 0x0000022560893AF0>, {'A': []})\n",
       "Bid Book: defaultdict(<function OrderBook.__init__.<locals>.<lambda> at 0x0000022560893B80>, {'A': [{'Symbol': 'A', 'OrderID': 0, 'Price': 10.0, 'Quantity': 1}]})"
      ]
     },
     "execution_count": 39,
     "metadata": {},
     "output_type": "execute_result"
    }
   ],
   "source": [
    "ob"
   ]
  },
  {
   "cell_type": "code",
   "execution_count": 40,
   "id": "22636218",
   "metadata": {},
   "outputs": [],
   "source": [
    "new_sell_order_cant_fill = order_generator('A', 3, 'S', 10, 11)\n",
    "new_sell_order_can_fill = order_generator('A', 4, 'S', 10, 10)"
   ]
  },
  {
   "cell_type": "code",
   "execution_count": 41,
   "id": "8f13da4c",
   "metadata": {},
   "outputs": [
    {
     "name": "stdout",
     "output_type": "stream",
     "text": [
      "found crossing candidate for our new order {'Symbol': 'A', 'OrderID': 4, 'Price': 10.0, 'Side': 'S', 'Quantity': 10}. Candidate: {'Symbol': 'A', 'OrderID': 0, 'Price': 10.0, 'Quantity': 1} \n",
      "the order candidate in orderbook is filled\n"
     ]
    }
   ],
   "source": [
    "ob.react_to_market_order(new_sell_order_cant_fill)\n",
    "ob.react_to_market_order(new_sell_order_can_fill)"
   ]
  },
  {
   "cell_type": "code",
   "execution_count": 42,
   "id": "d366dbc4",
   "metadata": {},
   "outputs": [
    {
     "data": {
      "text/plain": [
       "Ask Book: defaultdict(<function OrderBook.__init__.<locals>.<lambda> at 0x0000022560893AF0>, {'A': [{'Symbol': 'A', 'OrderID': 4, 'Price': 10.0, 'Quantity': 9}, {'Symbol': 'A', 'OrderID': 3, 'Price': 11.0, 'Quantity': 10}]})\n",
       "Bid Book: defaultdict(<function OrderBook.__init__.<locals>.<lambda> at 0x0000022560893B80>, {'A': ['<removed-order>']})"
      ]
     },
     "execution_count": 42,
     "metadata": {},
     "output_type": "execute_result"
    }
   ],
   "source": [
    "ob"
   ]
  },
  {
   "cell_type": "code",
   "execution_count": 8,
   "id": "fcd282fb",
   "metadata": {},
   "outputs": [],
   "source": [
    "one_company = server_data.loc[server_data['Symbol']=='AAPL']"
   ]
  },
  {
   "cell_type": "code",
   "execution_count": 14,
   "id": "c1d727a1",
   "metadata": {},
   "outputs": [],
   "source": [
    "import numpy as np"
   ]
  },
  {
   "cell_type": "code",
   "execution_count": 38,
   "id": "dea7ddc5",
   "metadata": {
    "scrolled": false
   },
   "outputs": [
    {
     "ename": "KeyError",
     "evalue": "-1",
     "output_type": "error",
     "traceback": [
      "\u001b[1;31m---------------------------------------------------------------------------\u001b[0m",
      "\u001b[1;31mValueError\u001b[0m                                Traceback (most recent call last)",
      "\u001b[1;32m~\\Anaconda3\\lib\\site-packages\\pandas\\core\\indexes\\range.py\u001b[0m in \u001b[0;36mget_loc\u001b[1;34m(self, key, method, tolerance)\u001b[0m\n\u001b[0;32m    350\u001b[0m                 \u001b[1;32mtry\u001b[0m\u001b[1;33m:\u001b[0m\u001b[1;33m\u001b[0m\u001b[1;33m\u001b[0m\u001b[0m\n\u001b[1;32m--> 351\u001b[1;33m                     \u001b[1;32mreturn\u001b[0m \u001b[0mself\u001b[0m\u001b[1;33m.\u001b[0m\u001b[0m_range\u001b[0m\u001b[1;33m.\u001b[0m\u001b[0mindex\u001b[0m\u001b[1;33m(\u001b[0m\u001b[0mnew_key\u001b[0m\u001b[1;33m)\u001b[0m\u001b[1;33m\u001b[0m\u001b[1;33m\u001b[0m\u001b[0m\n\u001b[0m\u001b[0;32m    352\u001b[0m                 \u001b[1;32mexcept\u001b[0m \u001b[0mValueError\u001b[0m \u001b[1;32mas\u001b[0m \u001b[0merr\u001b[0m\u001b[1;33m:\u001b[0m\u001b[1;33m\u001b[0m\u001b[1;33m\u001b[0m\u001b[0m\n",
      "\u001b[1;31mValueError\u001b[0m: -1 is not in range",
      "\nThe above exception was the direct cause of the following exception:\n",
      "\u001b[1;31mKeyError\u001b[0m                                  Traceback (most recent call last)",
      "\u001b[1;32m<ipython-input-38-eab52f8e48a7>\u001b[0m in \u001b[0;36m<module>\u001b[1;34m\u001b[0m\n\u001b[0;32m      3\u001b[0m \u001b[0mob\u001b[0m \u001b[1;33m=\u001b[0m \u001b[0mOrderBook\u001b[0m\u001b[1;33m(\u001b[0m\u001b[1;33m)\u001b[0m\u001b[1;33m\u001b[0m\u001b[1;33m\u001b[0m\u001b[0m\n\u001b[0;32m      4\u001b[0m \u001b[1;32mfor\u001b[0m \u001b[0mi\u001b[0m \u001b[1;32min\u001b[0m \u001b[0mrange\u001b[0m\u001b[1;33m(\u001b[0m\u001b[0mlen\u001b[0m\u001b[1;33m(\u001b[0m\u001b[0mserver_data\u001b[0m\u001b[1;33m)\u001b[0m\u001b[1;33m)\u001b[0m\u001b[1;33m:\u001b[0m\u001b[1;33m\u001b[0m\u001b[1;33m\u001b[0m\u001b[0m\n\u001b[1;32m----> 5\u001b[1;33m     \u001b[0mob\u001b[0m\u001b[1;33m.\u001b[0m\u001b[0mreact_to_market_order\u001b[0m\u001b[1;33m(\u001b[0m\u001b[0mserver_data\u001b[0m\u001b[1;33m.\u001b[0m\u001b[0miloc\u001b[0m\u001b[1;33m[\u001b[0m\u001b[0mi\u001b[0m\u001b[1;33m]\u001b[0m\u001b[1;33m.\u001b[0m\u001b[0mto_dict\u001b[0m\u001b[1;33m(\u001b[0m\u001b[1;33m)\u001b[0m\u001b[1;33m)\u001b[0m\u001b[1;33m\u001b[0m\u001b[1;33m\u001b[0m\u001b[0m\n\u001b[0m",
      "\u001b[1;32m~\\Documents\\Github\\MSCA-32019 Real-time\\project_server\\src\\orderbook.py\u001b[0m in \u001b[0;36mreact_to_market_order\u001b[1;34m(self, new_order)\u001b[0m\n\u001b[0;32m     59\u001b[0m         \u001b[1;31m# the difference in\u001b[0m\u001b[1;33m\u001b[0m\u001b[1;33m\u001b[0m\u001b[1;33m\u001b[0m\u001b[0m\n\u001b[0;32m     60\u001b[0m         \u001b[1;31m# crossed_decision = self.match_order(decision)\u001b[0m\u001b[1;33m\u001b[0m\u001b[1;33m\u001b[0m\u001b[1;33m\u001b[0m\u001b[0m\n\u001b[1;32m---> 61\u001b[1;33m         \u001b[0mvalidated_decision\u001b[0m \u001b[1;33m=\u001b[0m \u001b[0mself\u001b[0m\u001b[1;33m.\u001b[0m\u001b[0mtm\u001b[0m\u001b[1;33m.\u001b[0m\u001b[0mon_ts_trade\u001b[0m\u001b[1;33m(\u001b[0m\u001b[0mdecision\u001b[0m\u001b[1;33m)\u001b[0m\u001b[1;33m\u001b[0m\u001b[1;33m\u001b[0m\u001b[0m\n\u001b[0m\u001b[0;32m     62\u001b[0m         \u001b[1;31m# print(f'order valid = {validated_decision is not None}')\u001b[0m\u001b[1;33m\u001b[0m\u001b[1;33m\u001b[0m\u001b[1;33m\u001b[0m\u001b[0m\n\u001b[0;32m     63\u001b[0m \u001b[1;33m\u001b[0m\u001b[0m\n",
      "\u001b[1;32m~\\Documents\\Github\\MSCA-32019 Real-time\\project_server\\src\\trademanager.py\u001b[0m in \u001b[0;36mon_ts_trade\u001b[1;34m(self, order)\u001b[0m\n\u001b[0;32m     38\u001b[0m                 \u001b[0mself\u001b[0m\u001b[1;33m.\u001b[0m\u001b[0mbalance\u001b[0m \u001b[1;33m+=\u001b[0m \u001b[0morder\u001b[0m\u001b[1;33m[\u001b[0m\u001b[1;34m'Quantity'\u001b[0m\u001b[1;33m]\u001b[0m \u001b[1;33m*\u001b[0m \u001b[0morder\u001b[0m\u001b[1;33m[\u001b[0m\u001b[1;34m'Price'\u001b[0m\u001b[1;33m]\u001b[0m\u001b[1;33m\u001b[0m\u001b[1;33m\u001b[0m\u001b[0m\n\u001b[0;32m     39\u001b[0m \u001b[1;33m\u001b[0m\u001b[0m\n\u001b[1;32m---> 40\u001b[1;33m         \u001b[0mself\u001b[0m\u001b[1;33m.\u001b[0m\u001b[0mpnl\u001b[0m \u001b[1;33m=\u001b[0m \u001b[0mself\u001b[0m\u001b[1;33m.\u001b[0m\u001b[0mget_pnl\u001b[0m\u001b[1;33m(\u001b[0m\u001b[1;33m)\u001b[0m\u001b[1;33m\u001b[0m\u001b[1;33m\u001b[0m\u001b[0m\n\u001b[0m\u001b[0;32m     41\u001b[0m         \u001b[1;31m# print(f\"pnl = {self.pnl}\")\u001b[0m\u001b[1;33m\u001b[0m\u001b[1;33m\u001b[0m\u001b[1;33m\u001b[0m\u001b[0m\n\u001b[0;32m     42\u001b[0m         \u001b[1;32mreturn\u001b[0m \u001b[0mself\u001b[0m\u001b[1;33m.\u001b[0m\u001b[0mback_to_server\u001b[0m\u001b[1;33m(\u001b[0m\u001b[0morder\u001b[0m\u001b[1;33m)\u001b[0m\u001b[1;33m\u001b[0m\u001b[1;33m\u001b[0m\u001b[0m\n",
      "\u001b[1;32m~\\Documents\\Github\\MSCA-32019 Real-time\\project_server\\src\\trademanager.py\u001b[0m in \u001b[0;36mget_pnl\u001b[1;34m(self)\u001b[0m\n\u001b[0;32m     68\u001b[0m         \u001b[0mself\u001b[0m\u001b[1;33m.\u001b[0m\u001b[0mholdings\u001b[0m \u001b[1;33m=\u001b[0m \u001b[1;36m0\u001b[0m\u001b[1;33m\u001b[0m\u001b[1;33m\u001b[0m\u001b[0m\n\u001b[0;32m     69\u001b[0m         \u001b[1;32mfor\u001b[0m \u001b[0msym\u001b[0m\u001b[1;33m,\u001b[0m \u001b[0mqty\u001b[0m \u001b[1;32min\u001b[0m \u001b[0mself\u001b[0m\u001b[1;33m.\u001b[0m\u001b[0mposition\u001b[0m\u001b[1;33m.\u001b[0m\u001b[0mitems\u001b[0m\u001b[1;33m(\u001b[0m\u001b[1;33m)\u001b[0m\u001b[1;33m:\u001b[0m\u001b[1;33m\u001b[0m\u001b[1;33m\u001b[0m\u001b[0m\n\u001b[1;32m---> 70\u001b[1;33m             \u001b[0mlatest_price\u001b[0m \u001b[1;33m=\u001b[0m \u001b[0mself\u001b[0m\u001b[1;33m.\u001b[0m\u001b[0mdc\u001b[0m\u001b[1;33m.\u001b[0m\u001b[0mhistorical_data_by_symbol\u001b[0m\u001b[1;33m[\u001b[0m\u001b[0msym\u001b[0m\u001b[1;33m]\u001b[0m\u001b[1;33m[\u001b[0m\u001b[1;34m'Price'\u001b[0m\u001b[1;33m]\u001b[0m\u001b[1;33m[\u001b[0m\u001b[1;33m-\u001b[0m\u001b[1;36m1\u001b[0m\u001b[1;33m]\u001b[0m\u001b[1;33m\u001b[0m\u001b[1;33m\u001b[0m\u001b[0m\n\u001b[0m\u001b[0;32m     71\u001b[0m             \u001b[0mself\u001b[0m\u001b[1;33m.\u001b[0m\u001b[0mholdings\u001b[0m \u001b[1;33m+=\u001b[0m \u001b[0mlatest_price\u001b[0m \u001b[1;33m*\u001b[0m \u001b[0mqty\u001b[0m\u001b[1;33m\u001b[0m\u001b[1;33m\u001b[0m\u001b[0m\n\u001b[0;32m     72\u001b[0m         \u001b[1;32mreturn\u001b[0m \u001b[0mself\u001b[0m\u001b[1;33m.\u001b[0m\u001b[0mbalance\u001b[0m \u001b[1;33m+\u001b[0m \u001b[0mself\u001b[0m\u001b[1;33m.\u001b[0m\u001b[0mholdings\u001b[0m\u001b[1;33m\u001b[0m\u001b[1;33m\u001b[0m\u001b[0m\n",
      "\u001b[1;32m~\\Anaconda3\\lib\\site-packages\\pandas\\core\\series.py\u001b[0m in \u001b[0;36m__getitem__\u001b[1;34m(self, key)\u001b[0m\n\u001b[0;32m    851\u001b[0m \u001b[1;33m\u001b[0m\u001b[0m\n\u001b[0;32m    852\u001b[0m         \u001b[1;32melif\u001b[0m \u001b[0mkey_is_scalar\u001b[0m\u001b[1;33m:\u001b[0m\u001b[1;33m\u001b[0m\u001b[1;33m\u001b[0m\u001b[0m\n\u001b[1;32m--> 853\u001b[1;33m             \u001b[1;32mreturn\u001b[0m \u001b[0mself\u001b[0m\u001b[1;33m.\u001b[0m\u001b[0m_get_value\u001b[0m\u001b[1;33m(\u001b[0m\u001b[0mkey\u001b[0m\u001b[1;33m)\u001b[0m\u001b[1;33m\u001b[0m\u001b[1;33m\u001b[0m\u001b[0m\n\u001b[0m\u001b[0;32m    854\u001b[0m \u001b[1;33m\u001b[0m\u001b[0m\n\u001b[0;32m    855\u001b[0m         \u001b[1;32mif\u001b[0m \u001b[0mis_hashable\u001b[0m\u001b[1;33m(\u001b[0m\u001b[0mkey\u001b[0m\u001b[1;33m)\u001b[0m\u001b[1;33m:\u001b[0m\u001b[1;33m\u001b[0m\u001b[1;33m\u001b[0m\u001b[0m\n",
      "\u001b[1;32m~\\Anaconda3\\lib\\site-packages\\pandas\\core\\series.py\u001b[0m in \u001b[0;36m_get_value\u001b[1;34m(self, label, takeable)\u001b[0m\n\u001b[0;32m    959\u001b[0m \u001b[1;33m\u001b[0m\u001b[0m\n\u001b[0;32m    960\u001b[0m         \u001b[1;31m# Similar to Index.get_value, but we do not fall back to positional\u001b[0m\u001b[1;33m\u001b[0m\u001b[1;33m\u001b[0m\u001b[1;33m\u001b[0m\u001b[0m\n\u001b[1;32m--> 961\u001b[1;33m         \u001b[0mloc\u001b[0m \u001b[1;33m=\u001b[0m \u001b[0mself\u001b[0m\u001b[1;33m.\u001b[0m\u001b[0mindex\u001b[0m\u001b[1;33m.\u001b[0m\u001b[0mget_loc\u001b[0m\u001b[1;33m(\u001b[0m\u001b[0mlabel\u001b[0m\u001b[1;33m)\u001b[0m\u001b[1;33m\u001b[0m\u001b[1;33m\u001b[0m\u001b[0m\n\u001b[0m\u001b[0;32m    962\u001b[0m         \u001b[1;32mreturn\u001b[0m \u001b[0mself\u001b[0m\u001b[1;33m.\u001b[0m\u001b[0mindex\u001b[0m\u001b[1;33m.\u001b[0m\u001b[0m_get_values_for_loc\u001b[0m\u001b[1;33m(\u001b[0m\u001b[0mself\u001b[0m\u001b[1;33m,\u001b[0m \u001b[0mloc\u001b[0m\u001b[1;33m,\u001b[0m \u001b[0mlabel\u001b[0m\u001b[1;33m)\u001b[0m\u001b[1;33m\u001b[0m\u001b[1;33m\u001b[0m\u001b[0m\n\u001b[0;32m    963\u001b[0m \u001b[1;33m\u001b[0m\u001b[0m\n",
      "\u001b[1;32m~\\Anaconda3\\lib\\site-packages\\pandas\\core\\indexes\\range.py\u001b[0m in \u001b[0;36mget_loc\u001b[1;34m(self, key, method, tolerance)\u001b[0m\n\u001b[0;32m    351\u001b[0m                     \u001b[1;32mreturn\u001b[0m \u001b[0mself\u001b[0m\u001b[1;33m.\u001b[0m\u001b[0m_range\u001b[0m\u001b[1;33m.\u001b[0m\u001b[0mindex\u001b[0m\u001b[1;33m(\u001b[0m\u001b[0mnew_key\u001b[0m\u001b[1;33m)\u001b[0m\u001b[1;33m\u001b[0m\u001b[1;33m\u001b[0m\u001b[0m\n\u001b[0;32m    352\u001b[0m                 \u001b[1;32mexcept\u001b[0m \u001b[0mValueError\u001b[0m \u001b[1;32mas\u001b[0m \u001b[0merr\u001b[0m\u001b[1;33m:\u001b[0m\u001b[1;33m\u001b[0m\u001b[1;33m\u001b[0m\u001b[0m\n\u001b[1;32m--> 353\u001b[1;33m                     \u001b[1;32mraise\u001b[0m \u001b[0mKeyError\u001b[0m\u001b[1;33m(\u001b[0m\u001b[0mkey\u001b[0m\u001b[1;33m)\u001b[0m \u001b[1;32mfrom\u001b[0m \u001b[0merr\u001b[0m\u001b[1;33m\u001b[0m\u001b[1;33m\u001b[0m\u001b[0m\n\u001b[0m\u001b[0;32m    354\u001b[0m             \u001b[1;32mraise\u001b[0m \u001b[0mKeyError\u001b[0m\u001b[1;33m(\u001b[0m\u001b[0mkey\u001b[0m\u001b[1;33m)\u001b[0m\u001b[1;33m\u001b[0m\u001b[1;33m\u001b[0m\u001b[0m\n\u001b[0;32m    355\u001b[0m         \u001b[1;32mreturn\u001b[0m \u001b[0msuper\u001b[0m\u001b[1;33m(\u001b[0m\u001b[1;33m)\u001b[0m\u001b[1;33m.\u001b[0m\u001b[0mget_loc\u001b[0m\u001b[1;33m(\u001b[0m\u001b[0mkey\u001b[0m\u001b[1;33m,\u001b[0m \u001b[0mmethod\u001b[0m\u001b[1;33m=\u001b[0m\u001b[0mmethod\u001b[0m\u001b[1;33m,\u001b[0m \u001b[0mtolerance\u001b[0m\u001b[1;33m=\u001b[0m\u001b[0mtolerance\u001b[0m\u001b[1;33m)\u001b[0m\u001b[1;33m\u001b[0m\u001b[1;33m\u001b[0m\u001b[0m\n",
      "\u001b[1;31mKeyError\u001b[0m: -1"
     ]
    }
   ],
   "source": [
    "# running it on the entire dataset\n",
    "# uncomment and run\n",
    "ob = OrderBook()\n",
    "for i in range(len(server_data)):\n",
    "    ob.react_to_market_order(server_data.iloc[i].to_dict())"
   ]
  },
  {
   "cell_type": "code",
   "execution_count": 37,
   "id": "43265a3f",
   "metadata": {},
   "outputs": [
    {
     "name": "stdout",
     "output_type": "stream",
     "text": [
      "position: defaultdict(<class 'int'>, {'ALXN': 1000, 'AMGN': 0, 'CERN': 0, 'CHKP': 1000, 'CHTR': 1000, 'CMCSA': 3000, 'CSCO': 0, 'CTRP': 2000, 'CTXS': 2000, 'DISCA': 1000, 'DLTR': 1000, 'EA': 0, 'EBAY': 1000, 'ILMN': 1000, 'INTC': 1000, 'AVGO': 2000, 'CA': 2000, 'COST': 0, 'CSX': 1000, 'CTSH': 2000, 'ESRX': 0, 'FISV': 1000, 'GILD': 1000, 'HSIC': 0, 'ADI': 0, 'BBBY': 0, 'BIIB': 0, 'GOOG': 1000, 'AAPL': 1000, 'FAST': 0, 'FOX': 0, 'ATVI': 1000, 'INCY': 0, 'AAL': 2000, 'ADBE': 2000, 'CELG': 0, 'AMZN': 1000, 'EXPE': 1000, 'ADP': 2000})\n",
      "balance: 489680.0\n",
      "holding: 3475   NaN\n",
      "Name: Price, dtype: float64\n",
      "pnl: 3475   NaN\n",
      "Name: Price, dtype: float64\n"
     ]
    }
   ],
   "source": [
    "print(ob.tm)"
   ]
  },
  {
   "cell_type": "code",
   "execution_count": 44,
   "id": "4abbf617",
   "metadata": {},
   "outputs": [],
   "source": [
    "# ob.dc.historical_data.head()"
   ]
  },
  {
   "cell_type": "code",
   "execution_count": 7,
   "id": "96f07e9c",
   "metadata": {},
   "outputs": [
    {
     "name": "stdout",
     "output_type": "stream",
     "text": [
      "{'Symbol': None, 'Price': None, 'Side': None, 'Quantity': None}\n",
      "{'Symbol': None, 'Price': None, 'Side': None, 'Quantity': None}\n",
      "{'Symbol': None, 'Price': None, 'Side': None, 'Quantity': None}\n",
      "{'Symbol': None, 'Price': None, 'Side': None, 'Quantity': None}\n",
      "{'Symbol': None, 'Price': None, 'Side': None, 'Quantity': None}\n",
      "{'Symbol': None, 'Price': None, 'Side': None, 'Quantity': None}\n",
      "{'Symbol': None, 'Price': None, 'Side': None, 'Quantity': None}\n",
      "{'Symbol': None, 'Price': None, 'Side': None, 'Quantity': None}\n",
      "{'Symbol': None, 'Price': None, 'Side': None, 'Quantity': None}\n",
      "{'Symbol': None, 'Price': None, 'Side': None, 'Quantity': None}\n"
     ]
    }
   ],
   "source": [
    "# ob = OrderBook()\n",
    "# for i in range(len(subset)):\n",
    "#     ob.react_to_market_order(server_data.iloc[i].to_dict())"
   ]
  },
  {
   "cell_type": "code",
   "execution_count": null,
   "id": "a8c94c4c",
   "metadata": {},
   "outputs": [],
   "source": []
  }
 ],
 "metadata": {
  "kernelspec": {
   "display_name": "Python 3",
   "language": "python",
   "name": "python3"
  },
  "language_info": {
   "codemirror_mode": {
    "name": "ipython",
    "version": 3
   },
   "file_extension": ".py",
   "mimetype": "text/x-python",
   "name": "python",
   "nbconvert_exporter": "python",
   "pygments_lexer": "ipython3",
   "version": "3.8.8"
  }
 },
 "nbformat": 4,
 "nbformat_minor": 5
}
