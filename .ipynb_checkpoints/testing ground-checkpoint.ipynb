{
 "cells": [
  {
   "cell_type": "code",
   "execution_count": 4,
   "id": "a3ab4ad8",
   "metadata": {},
   "outputs": [
    {
     "name": "stdout",
     "output_type": "stream",
     "text": [
      "The autoreload extension is already loaded. To reload it, use:\n",
      "  %reload_ext autoreload\n"
     ]
    }
   ],
   "source": [
    "import heapq\n",
    "import pandas as pd\n",
    "from collections import defaultdict\n",
    "from copy import deepcopy\n",
    "from src.orderbook import OrderBook\n",
    "%load_ext autoreload\n",
    "%autoreload 2"
   ]
  },
  {
   "cell_type": "code",
   "execution_count": 8,
   "id": "45844d3b",
   "metadata": {},
   "outputs": [],
   "source": [
    "server_data = pd.read_csv('finance/finance.csv')"
   ]
  },
  {
   "cell_type": "code",
   "execution_count": 15,
   "id": "d90f1cdf",
   "metadata": {},
   "outputs": [],
   "source": [
    "subset = server_data.iloc[:10,:]"
   ]
  },
  {
   "cell_type": "code",
   "execution_count": 26,
   "id": "80c24d3d",
   "metadata": {},
   "outputs": [],
   "source": [
    "one_insertion = subset.loc[0].to_dict()"
   ]
  },
  {
   "cell_type": "code",
   "execution_count": 36,
   "id": "dea7ddc5",
   "metadata": {},
   "outputs": [],
   "source": [
    "ob = OrderBook()"
   ]
  },
  {
   "cell_type": "code",
   "execution_count": 37,
   "id": "a7e2af6e",
   "metadata": {},
   "outputs": [
    {
     "data": {
      "text/plain": [
       "Ask Book: defaultdict(<function OrderBook.__init__.<locals>.<lambda> at 0x000002B3A0001700>, {})\n",
       "Bid Book: defaultdict(<function OrderBook.__init__.<locals>.<lambda> at 0x000002B3A00019D0>, {})"
      ]
     },
     "execution_count": 37,
     "metadata": {},
     "output_type": "execute_result"
    }
   ],
   "source": [
    "ob"
   ]
  },
  {
   "cell_type": "code",
   "execution_count": null,
   "id": "f08d53d9",
   "metadata": {},
   "outputs": [],
   "source": []
  }
 ],
 "metadata": {
  "kernelspec": {
   "display_name": "Python 3",
   "language": "python",
   "name": "python3"
  },
  "language_info": {
   "codemirror_mode": {
    "name": "ipython",
    "version": 3
   },
   "file_extension": ".py",
   "mimetype": "text/x-python",
   "name": "python",
   "nbconvert_exporter": "python",
   "pygments_lexer": "ipython3",
   "version": "3.8.8"
  }
 },
 "nbformat": 4,
 "nbformat_minor": 5
}
