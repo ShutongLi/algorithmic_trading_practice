{
 "cells": [
  {
   "cell_type": "code",
   "execution_count": 74,
   "id": "80f2ead4",
   "metadata": {},
   "outputs": [
    {
     "name": "stdout",
     "output_type": "stream",
     "text": [
      "The autoreload extension is already loaded. To reload it, use:\n",
      "  %reload_ext autoreload\n"
     ]
    }
   ],
   "source": [
    "import heapq\n",
    "from collections import defaultdict\n",
    "from copy import deepcopy\n",
    "from src.custom_priority_queue import OrderQueue\n",
    "%load_ext autoreload\n",
    "%autoreload 2"
   ]
  },
  {
   "cell_type": "code",
   "execution_count": 89,
   "id": "80c51bc0",
   "metadata": {},
   "outputs": [],
   "source": [
    "new_bid = {'Symbol': 'AAL', 'Description': 'American Airlines Group Inc', \n",
    "             'OrderID': '1101', 'Quantity': '455000', 'Action': 'A', 'Exchange': '1', \n",
    "             'Side': 'B', 'Price': '430.05', 'News': '0'}"
   ]
  },
  {
   "cell_type": "code",
   "execution_count": 90,
   "id": "eccc7f9d",
   "metadata": {},
   "outputs": [],
   "source": [
    "bid_list = OrderQueue('B')"
   ]
  },
  {
   "cell_type": "code",
   "execution_count": 91,
   "id": "34bdd534",
   "metadata": {},
   "outputs": [],
   "source": [
    "bid_list.add_task(new_bid)"
   ]
  },
  {
   "cell_type": "code",
   "execution_count": 92,
   "id": "186fd00a",
   "metadata": {},
   "outputs": [
    {
     "data": {
      "text/plain": [
       "[[-430.05, 0, {'Symbol': 'AAL', 'OrderID': 1101, 'Price': 430.05, 'Quantity': 455000}]]"
      ]
     },
     "execution_count": 92,
     "metadata": {},
     "output_type": "execute_result"
    }
   ],
   "source": [
    "bid_list"
   ]
  },
  {
   "cell_type": "code",
   "execution_count": 93,
   "id": "7e424263",
   "metadata": {},
   "outputs": [],
   "source": [
    "new_bid_with_higher_price = {'Symbol': 'AAL', 'Description': 'American Airlines Group Inc',\\\n",
    "             'OrderID': '1102', 'Quantity': '455000', 'Action': 'A', 'Exchange': '1',\\\n",
    "             'Side': 'B', 'Price': '440.05', 'News': '0'}"
   ]
  },
  {
   "cell_type": "code",
   "execution_count": 94,
   "id": "be4ea366",
   "metadata": {},
   "outputs": [],
   "source": [
    "bid_list.add_task(new_bid_with_higher_price)"
   ]
  },
  {
   "cell_type": "code",
   "execution_count": 95,
   "id": "2fc90758",
   "metadata": {},
   "outputs": [
    {
     "data": {
      "text/plain": [
       "[[-440.05, 1, {'Symbol': 'AAL', 'OrderID': 1102, 'Price': 440.05, 'Quantity': 455000}], [-430.05, 0, {'Symbol': 'AAL', 'OrderID': 1101, 'Price': 430.05, 'Quantity': 455000}]]"
      ]
     },
     "execution_count": 95,
     "metadata": {},
     "output_type": "execute_result"
    }
   ],
   "source": [
    "bid_list"
   ]
  },
  {
   "cell_type": "code",
   "execution_count": 96,
   "id": "083d8ba4",
   "metadata": {},
   "outputs": [],
   "source": [
    "first_bid_updated_with_higher_price = {'Symbol': 'AAL', 'Description': 'American Airlines Group Inc',\\\n",
    "             'OrderID': '1101', 'Quantity': '455000', 'Action': 'A', 'Exchange': '1',\\\n",
    "             'Side': 'B', 'Price': '1000.0', 'News': '0'}"
   ]
  },
  {
   "cell_type": "code",
   "execution_count": 97,
   "id": "9ade3a0f",
   "metadata": {},
   "outputs": [],
   "source": [
    "bid_list.add_task(first_bid_updated_with_higher_price)"
   ]
  },
  {
   "cell_type": "code",
   "execution_count": 98,
   "id": "067134bb",
   "metadata": {},
   "outputs": [
    {
     "data": {
      "text/plain": [
       "[[-1000.0, 2, {'Symbol': 'AAL', 'OrderID': 1101, 'Price': 1000.0, 'Quantity': 455000}], [-430.05, 0, '<removed-order>'], [-440.05, 1, {'Symbol': 'AAL', 'OrderID': 1102, 'Price': 440.05, 'Quantity': 455000}]]"
      ]
     },
     "execution_count": 98,
     "metadata": {},
     "output_type": "execute_result"
    }
   ],
   "source": [
    "bid_list"
   ]
  },
  {
   "cell_type": "code",
   "execution_count": null,
   "id": "30fe164b",
   "metadata": {},
   "outputs": [],
   "source": [
    "new_higest_price_bid = {'Symbol': 'AAL', 'Description': 'American Airlines Group Inc',\\\n",
    "             'OrderID': '1101', 'Quantity': '455000', 'Action': 'A', 'Exchange': '1',\\\n",
    "             'Side': 'B', 'Price': '1000.0', 'News': '0'}"
   ]
  },
  {
   "cell_type": "code",
   "execution_count": null,
   "id": "6dbd99d9",
   "metadata": {},
   "outputs": [],
   "source": [
    "bid_list.peek_order()"
   ]
  },
  {
   "cell_type": "code",
   "execution_count": null,
   "id": "35328df0",
   "metadata": {},
   "outputs": [],
   "source": [
    "bid_list"
   ]
  },
  {
   "cell_type": "code",
   "execution_count": null,
   "id": "836ce780",
   "metadata": {},
   "outputs": [],
   "source": [
    "bid_list.pop_order()"
   ]
  },
  {
   "cell_type": "code",
   "execution_count": null,
   "id": "84d9c086",
   "metadata": {},
   "outputs": [],
   "source": [
    "bid_list.peek_order()"
   ]
  },
  {
   "cell_type": "code",
   "execution_count": 66,
   "id": "b9c18bca",
   "metadata": {},
   "outputs": [],
   "source": [
    "test = []"
   ]
  },
  {
   "cell_type": "code",
   "execution_count": 67,
   "id": "26cdc4d7",
   "metadata": {},
   "outputs": [],
   "source": [
    "heapq.heappush(test, [0, 0, 1])"
   ]
  },
  {
   "cell_type": "code",
   "execution_count": 68,
   "id": "b52a6338",
   "metadata": {},
   "outputs": [],
   "source": [
    "heapq.heappush(test, [1, 0, 1])"
   ]
  },
  {
   "cell_type": "code",
   "execution_count": 70,
   "id": "e1b8d910",
   "metadata": {},
   "outputs": [],
   "source": [
    "heapq.heappush(test, [-10,-100, 1])"
   ]
  },
  {
   "cell_type": "code",
   "execution_count": 72,
   "id": "3a441c8e",
   "metadata": {},
   "outputs": [],
   "source": [
    "heapq.heappush(test, [-10,-99, 1])"
   ]
  },
  {
   "cell_type": "code",
   "execution_count": 73,
   "id": "706f3144",
   "metadata": {},
   "outputs": [
    {
     "data": {
      "text/plain": [
       "[[-10, -100, 1], [-10, -99, 1], [0, 0, 1], [1, 0, 1]]"
      ]
     },
     "execution_count": 73,
     "metadata": {},
     "output_type": "execute_result"
    }
   ],
   "source": [
    "test"
   ]
  },
  {
   "cell_type": "code",
   "execution_count": null,
   "id": "b4b02924",
   "metadata": {},
   "outputs": [],
   "source": []
  }
 ],
 "metadata": {
  "kernelspec": {
   "display_name": "Python 3",
   "language": "python",
   "name": "python3"
  },
  "language_info": {
   "codemirror_mode": {
    "name": "ipython",
    "version": 3
   },
   "file_extension": ".py",
   "mimetype": "text/x-python",
   "name": "python",
   "nbconvert_exporter": "python",
   "pygments_lexer": "ipython3",
   "version": "3.8.8"
  }
 },
 "nbformat": 4,
 "nbformat_minor": 5
}
