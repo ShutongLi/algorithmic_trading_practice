{
 "cells": [
  {
   "cell_type": "code",
   "execution_count": 1,
   "id": "ae1ca3be",
   "metadata": {},
   "outputs": [],
   "source": [
    "import heapq\n",
    "from collections import defaultdict\n",
    "from copy import deepcopy\n",
    "from src.custom_priority_queue import OrderQueue\n",
    "%load_ext autoreload\n",
    "%autoreload 2"
   ]
  },
  {
   "cell_type": "code",
   "execution_count": 2,
   "id": "2df38354",
   "metadata": {},
   "outputs": [],
   "source": [
    "new_bid = {'Symbol': 'AAL', 'Description': 'American Airlines Group Inc', \n",
    "             'OrderID': '1101', 'Quantity': '455000', 'Action': 'A', 'Exchange': '1', \n",
    "             'Side': 'B', 'Price': '440.05', 'News': '0'}"
   ]
  },
  {
   "cell_type": "code",
   "execution_count": 3,
   "id": "f2584c0d",
   "metadata": {},
   "outputs": [],
   "source": [
    "bid_list = OrderQueue()"
   ]
  },
  {
   "cell_type": "code",
   "execution_count": 4,
   "id": "92b81164",
   "metadata": {},
   "outputs": [],
   "source": [
    "bid_list.add_task(new_bid, priority = -1 * float(new_bid['Price']))"
   ]
  },
  {
   "cell_type": "code",
   "execution_count": 5,
   "id": "46d47b56",
   "metadata": {},
   "outputs": [
    {
     "data": {
      "text/plain": [
       "[{'Symbol': 'AAL', 'Description': 'American Airlines Group Inc', 'OrderID': '1101', 'Quantity': '455000', 'Action': 'A', 'Exchange': '1', 'Side': 'B', 'Price': '440.05', 'News': '0'}]"
      ]
     },
     "execution_count": 5,
     "metadata": {},
     "output_type": "execute_result"
    }
   ],
   "source": [
    "bid_list"
   ]
  },
  {
   "cell_type": "code",
   "execution_count": 6,
   "id": "df08783a",
   "metadata": {},
   "outputs": [],
   "source": [
    "new_bid = {'Symbol': 'AAL', 'Description': 'American Airlines Group Inc', \n",
    "             'OrderID': '1101', 'Quantity': '455000', 'Action': 'A', 'Exchange': '1', \n",
    "             'Side': 'B', 'Price': '430.05', 'News': '0'}"
   ]
  },
  {
   "cell_type": "code",
   "execution_count": 7,
   "id": "4d889aca",
   "metadata": {},
   "outputs": [],
   "source": [
    "bid_list.add_task(new_bid, priority = -1 * float(new_bid['Price']))"
   ]
  },
  {
   "cell_type": "code",
   "execution_count": 8,
   "id": "81d2c2e0",
   "metadata": {},
   "outputs": [
    {
     "data": {
      "text/plain": [
       "['<removed-task>', {'Symbol': 'AAL', 'Description': 'American Airlines Group Inc', 'OrderID': '1101', 'Quantity': '455000', 'Action': 'A', 'Exchange': '1', 'Side': 'B', 'Price': '430.05', 'News': '0'}]"
      ]
     },
     "execution_count": 8,
     "metadata": {},
     "output_type": "execute_result"
    }
   ],
   "source": [
    "bid_list"
   ]
  },
  {
   "cell_type": "code",
   "execution_count": 9,
   "id": "0d221e1e",
   "metadata": {},
   "outputs": [
    {
     "ename": "KeyError",
     "evalue": "''",
     "output_type": "error",
     "traceback": [
      "\u001b[1;31m---------------------------------------------------------------------------\u001b[0m",
      "\u001b[1;31mKeyError\u001b[0m                                  Traceback (most recent call last)",
      "\u001b[1;32m<ipython-input-9-c0230b1cce7c>\u001b[0m in \u001b[0;36m<module>\u001b[1;34m\u001b[0m\n\u001b[1;32m----> 1\u001b[1;33m \u001b[0mbid_list\u001b[0m\u001b[1;33m.\u001b[0m\u001b[0mpop_order\u001b[0m\u001b[1;33m(\u001b[0m\u001b[1;33m)\u001b[0m\u001b[1;33m\u001b[0m\u001b[1;33m\u001b[0m\u001b[0m\n\u001b[0m",
      "\u001b[1;32m~\\Documents\\Github\\MSCA-32019 Real-time\\project_server\\src\\custom_priority_queue.py\u001b[0m in \u001b[0;36mpop_order\u001b[1;34m(self)\u001b[0m\n\u001b[0;32m     48\u001b[0m             \u001b[0mpriority\u001b[0m\u001b[1;33m,\u001b[0m \u001b[0mcount\u001b[0m\u001b[1;33m,\u001b[0m \u001b[0morder\u001b[0m \u001b[1;33m=\u001b[0m \u001b[0mheapq\u001b[0m\u001b[1;33m.\u001b[0m\u001b[0mheappop\u001b[0m\u001b[1;33m(\u001b[0m\u001b[0mself\u001b[0m\u001b[1;33m.\u001b[0m\u001b[0mqueue\u001b[0m\u001b[1;33m)\u001b[0m\u001b[1;33m\u001b[0m\u001b[1;33m\u001b[0m\u001b[0m\n\u001b[0;32m     49\u001b[0m             \u001b[1;32mif\u001b[0m \u001b[0morder\u001b[0m \u001b[1;32mis\u001b[0m \u001b[1;32mnot\u001b[0m \u001b[0mself\u001b[0m\u001b[1;33m.\u001b[0m\u001b[0mremove_placeholder\u001b[0m\u001b[1;33m:\u001b[0m\u001b[1;33m\u001b[0m\u001b[1;33m\u001b[0m\u001b[0m\n\u001b[1;32m---> 50\u001b[1;33m                 \u001b[1;32mdel\u001b[0m \u001b[0mself\u001b[0m\u001b[1;33m.\u001b[0m\u001b[0moid_entry_lookup\u001b[0m\u001b[1;33m[\u001b[0m\u001b[0morder\u001b[0m\u001b[1;33m[\u001b[0m\u001b[1;34m''\u001b[0m\u001b[1;33m]\u001b[0m\u001b[1;33m]\u001b[0m\u001b[1;33m\u001b[0m\u001b[1;33m\u001b[0m\u001b[0m\n\u001b[0m\u001b[0;32m     51\u001b[0m                 \u001b[1;32mreturn\u001b[0m \u001b[0morder\u001b[0m\u001b[1;33m\u001b[0m\u001b[1;33m\u001b[0m\u001b[0m\n\u001b[0;32m     52\u001b[0m         \u001b[1;32mraise\u001b[0m \u001b[0mKeyError\u001b[0m\u001b[1;33m(\u001b[0m\u001b[1;34m'pop from an empty priority queue'\u001b[0m\u001b[1;33m)\u001b[0m\u001b[1;33m\u001b[0m\u001b[1;33m\u001b[0m\u001b[0m\n",
      "\u001b[1;31mKeyError\u001b[0m: ''"
     ]
    }
   ],
   "source": [
    "bid_list.pop_order()"
   ]
  },
  {
   "cell_type": "code",
   "execution_count": null,
   "id": "96ad4563",
   "metadata": {},
   "outputs": [],
   "source": []
  }
 ],
 "metadata": {
  "kernelspec": {
   "display_name": "Python 3",
   "language": "python",
   "name": "python3"
  },
  "language_info": {
   "codemirror_mode": {
    "name": "ipython",
    "version": 3
   },
   "file_extension": ".py",
   "mimetype": "text/x-python",
   "name": "python",
   "nbconvert_exporter": "python",
   "pygments_lexer": "ipython3",
   "version": "3.8.8"
  }
 },
 "nbformat": 4,
 "nbformat_minor": 5
}
